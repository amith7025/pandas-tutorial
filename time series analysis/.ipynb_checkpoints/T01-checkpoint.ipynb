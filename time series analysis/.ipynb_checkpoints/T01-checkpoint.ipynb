{
 "cells": [
  {
   "cell_type": "code",
   "execution_count": 19,
   "id": "5c79b543-c355-497b-b7ac-25c33cebb9ae",
   "metadata": {},
   "outputs": [],
   "source": [
    "import pandas as pd"
   ]
  },
  {
   "cell_type": "code",
   "execution_count": 20,
   "id": "8de15642-eb81-4bef-88ce-59cf517def3a",
   "metadata": {},
   "outputs": [],
   "source": [
    "#Time series is a set of data points indexed in time order"
   ]
  },
  {
   "cell_type": "code",
   "execution_count": 21,
   "id": "f1cffa45-b810-4a20-901a-c2142de927e9",
   "metadata": {},
   "outputs": [],
   "source": [
    "df = pd.read_csv('HistoricalQuotes.csv')"
   ]
  },
  {
   "cell_type": "code",
   "execution_count": 22,
   "id": "f05b06d7-30cb-4ffe-bed6-099d0accd733",
   "metadata": {},
   "outputs": [
    {
     "data": {
      "text/html": [
       "<div>\n",
       "<style scoped>\n",
       "    .dataframe tbody tr th:only-of-type {\n",
       "        vertical-align: middle;\n",
       "    }\n",
       "\n",
       "    .dataframe tbody tr th {\n",
       "        vertical-align: top;\n",
       "    }\n",
       "\n",
       "    .dataframe thead th {\n",
       "        text-align: right;\n",
       "    }\n",
       "</style>\n",
       "<table border=\"1\" class=\"dataframe\">\n",
       "  <thead>\n",
       "    <tr style=\"text-align: right;\">\n",
       "      <th></th>\n",
       "      <th>Date</th>\n",
       "      <th>Close/Last</th>\n",
       "      <th>Volume</th>\n",
       "      <th>Open</th>\n",
       "      <th>High</th>\n",
       "      <th>Low</th>\n",
       "    </tr>\n",
       "  </thead>\n",
       "  <tbody>\n",
       "    <tr>\n",
       "      <th>0</th>\n",
       "      <td>02/28/2020</td>\n",
       "      <td>$273.36</td>\n",
       "      <td>106721200</td>\n",
       "      <td>$257.26</td>\n",
       "      <td>$278.41</td>\n",
       "      <td>$256.37</td>\n",
       "    </tr>\n",
       "    <tr>\n",
       "      <th>1</th>\n",
       "      <td>02/27/2020</td>\n",
       "      <td>$273.52</td>\n",
       "      <td>80151380</td>\n",
       "      <td>$281.1</td>\n",
       "      <td>$286</td>\n",
       "      <td>$272.96</td>\n",
       "    </tr>\n",
       "    <tr>\n",
       "      <th>2</th>\n",
       "      <td>02/26/2020</td>\n",
       "      <td>$292.65</td>\n",
       "      <td>49678430</td>\n",
       "      <td>$286.53</td>\n",
       "      <td>$297.88</td>\n",
       "      <td>$286.5</td>\n",
       "    </tr>\n",
       "    <tr>\n",
       "      <th>3</th>\n",
       "      <td>02/25/2020</td>\n",
       "      <td>$288.08</td>\n",
       "      <td>57668360</td>\n",
       "      <td>$300.95</td>\n",
       "      <td>$302.53</td>\n",
       "      <td>$286.13</td>\n",
       "    </tr>\n",
       "    <tr>\n",
       "      <th>4</th>\n",
       "      <td>02/24/2020</td>\n",
       "      <td>$298.18</td>\n",
       "      <td>55548830</td>\n",
       "      <td>$297.26</td>\n",
       "      <td>$304.18</td>\n",
       "      <td>$289.23</td>\n",
       "    </tr>\n",
       "  </tbody>\n",
       "</table>\n",
       "</div>"
      ],
      "text/plain": [
       "         Date  Close/Last     Volume      Open      High       Low\n",
       "0  02/28/2020     $273.36  106721200   $257.26   $278.41   $256.37\n",
       "1  02/27/2020     $273.52   80151380    $281.1      $286   $272.96\n",
       "2  02/26/2020     $292.65   49678430   $286.53   $297.88    $286.5\n",
       "3  02/25/2020     $288.08   57668360   $300.95   $302.53   $286.13\n",
       "4  02/24/2020     $298.18   55548830   $297.26   $304.18   $289.23"
      ]
     },
     "execution_count": 22,
     "metadata": {},
     "output_type": "execute_result"
    }
   ],
   "source": [
    "df.head()"
   ]
  },
  {
   "cell_type": "code",
   "execution_count": 23,
   "id": "126e031a-6dc4-4f7d-bd8b-0a62e8b774d1",
   "metadata": {},
   "outputs": [
    {
     "data": {
      "text/plain": [
       "Date           object\n",
       " Close/Last    object\n",
       " Volume         int64\n",
       " Open          object\n",
       " High          object\n",
       " Low           object\n",
       "dtype: object"
      ]
     },
     "execution_count": 23,
     "metadata": {},
     "output_type": "execute_result"
    }
   ],
   "source": [
    "df.dtypes"
   ]
  },
  {
   "cell_type": "code",
   "execution_count": 24,
   "id": "cac3cca3-a9f3-4d06-8dfb-984deeb7e541",
   "metadata": {},
   "outputs": [],
   "source": [
    "df.columns = df.columns.str.strip()"
   ]
  },
  {
   "cell_type": "code",
   "execution_count": 25,
   "id": "94955e9f-581f-47ef-8dbd-1d39ea039892",
   "metadata": {},
   "outputs": [],
   "source": [
    "# def preprocess(text):\n",
    "#     text = str(text)\n",
    "    \n",
    "#     # Remove non-numeric characters, except for the decimal point\n",
    "#     cleaned_text = ''.join(char for char in text if char.isdigit() or char == '.')\n",
    "\n",
    "#     try:\n",
    "#         result = float(cleaned_text)\n",
    "#     except ValueError:\n",
    "#         # Handle the case where the string contains non-numeric characters\n",
    "#         result = None\n",
    "    \n",
    "#     return result\n",
    "\n",
    "def preprocess(text):\n",
    "    text = str(text)\n",
    "    split = [x for x in text]\n",
    "    new = ''.join(split[1:])\n",
    "    return float(new)\n"
   ]
  },
  {
   "cell_type": "code",
   "execution_count": 26,
   "id": "3d5138c6-e73d-4481-894d-a374fe687b77",
   "metadata": {},
   "outputs": [
    {
     "data": {
      "text/plain": [
       "123.0"
      ]
     },
     "execution_count": 26,
     "metadata": {},
     "output_type": "execute_result"
    }
   ],
   "source": [
    "preprocess('$123')"
   ]
  },
  {
   "cell_type": "code",
   "execution_count": 27,
   "id": "2880d2be-ebac-4543-af01-6364cbcf1d60",
   "metadata": {},
   "outputs": [],
   "source": [
    "df['close'] = df['Close/Last'].apply(lambda x:preprocess(x))"
   ]
  },
  {
   "cell_type": "code",
   "execution_count": 28,
   "id": "14ebcca5-e710-4cdd-a994-9efa07b7344b",
   "metadata": {},
   "outputs": [
    {
     "data": {
      "text/html": [
       "<div>\n",
       "<style scoped>\n",
       "    .dataframe tbody tr th:only-of-type {\n",
       "        vertical-align: middle;\n",
       "    }\n",
       "\n",
       "    .dataframe tbody tr th {\n",
       "        vertical-align: top;\n",
       "    }\n",
       "\n",
       "    .dataframe thead th {\n",
       "        text-align: right;\n",
       "    }\n",
       "</style>\n",
       "<table border=\"1\" class=\"dataframe\">\n",
       "  <thead>\n",
       "    <tr style=\"text-align: right;\">\n",
       "      <th></th>\n",
       "      <th>Date</th>\n",
       "      <th>Close/Last</th>\n",
       "      <th>Volume</th>\n",
       "      <th>Open</th>\n",
       "      <th>High</th>\n",
       "      <th>Low</th>\n",
       "      <th>close</th>\n",
       "    </tr>\n",
       "  </thead>\n",
       "  <tbody>\n",
       "    <tr>\n",
       "      <th>0</th>\n",
       "      <td>02/28/2020</td>\n",
       "      <td>$273.36</td>\n",
       "      <td>106721200</td>\n",
       "      <td>$257.26</td>\n",
       "      <td>$278.41</td>\n",
       "      <td>$256.37</td>\n",
       "      <td>273.36</td>\n",
       "    </tr>\n",
       "    <tr>\n",
       "      <th>1</th>\n",
       "      <td>02/27/2020</td>\n",
       "      <td>$273.52</td>\n",
       "      <td>80151380</td>\n",
       "      <td>$281.1</td>\n",
       "      <td>$286</td>\n",
       "      <td>$272.96</td>\n",
       "      <td>273.52</td>\n",
       "    </tr>\n",
       "    <tr>\n",
       "      <th>2</th>\n",
       "      <td>02/26/2020</td>\n",
       "      <td>$292.65</td>\n",
       "      <td>49678430</td>\n",
       "      <td>$286.53</td>\n",
       "      <td>$297.88</td>\n",
       "      <td>$286.5</td>\n",
       "      <td>292.65</td>\n",
       "    </tr>\n",
       "    <tr>\n",
       "      <th>3</th>\n",
       "      <td>02/25/2020</td>\n",
       "      <td>$288.08</td>\n",
       "      <td>57668360</td>\n",
       "      <td>$300.95</td>\n",
       "      <td>$302.53</td>\n",
       "      <td>$286.13</td>\n",
       "      <td>288.08</td>\n",
       "    </tr>\n",
       "    <tr>\n",
       "      <th>4</th>\n",
       "      <td>02/24/2020</td>\n",
       "      <td>$298.18</td>\n",
       "      <td>55548830</td>\n",
       "      <td>$297.26</td>\n",
       "      <td>$304.18</td>\n",
       "      <td>$289.23</td>\n",
       "      <td>298.18</td>\n",
       "    </tr>\n",
       "  </tbody>\n",
       "</table>\n",
       "</div>"
      ],
      "text/plain": [
       "         Date Close/Last     Volume      Open      High       Low   close\n",
       "0  02/28/2020    $273.36  106721200   $257.26   $278.41   $256.37  273.36\n",
       "1  02/27/2020    $273.52   80151380    $281.1      $286   $272.96  273.52\n",
       "2  02/26/2020    $292.65   49678430   $286.53   $297.88    $286.5  292.65\n",
       "3  02/25/2020    $288.08   57668360   $300.95   $302.53   $286.13  288.08\n",
       "4  02/24/2020    $298.18   55548830   $297.26   $304.18   $289.23  298.18"
      ]
     },
     "execution_count": 28,
     "metadata": {},
     "output_type": "execute_result"
    }
   ],
   "source": [
    "df.head()"
   ]
  },
  {
   "cell_type": "code",
   "execution_count": 29,
   "id": "0c7aa00a-fe00-42fc-ad26-775deaaef7d3",
   "metadata": {},
   "outputs": [],
   "source": [
    "df.columns = df.columns.str.strip()"
   ]
  },
  {
   "cell_type": "code",
   "execution_count": 30,
   "id": "c58e066b-7bf4-48b5-8a67-16b804a72f7e",
   "metadata": {},
   "outputs": [],
   "source": [
    "df['open'] = df['Open'].apply(lambda x:preprocess(x))"
   ]
  },
  {
   "cell_type": "code",
   "execution_count": 31,
   "id": "f1cf84d5-ce0a-4c48-9bf0-cac590659ceb",
   "metadata": {},
   "outputs": [],
   "source": [
    "df['high'] = df['High'].apply(lambda x:preprocess(x))"
   ]
  },
  {
   "cell_type": "code",
   "execution_count": 32,
   "id": "a46a33a8-dda7-49d5-8da9-94a35a08c4c2",
   "metadata": {},
   "outputs": [],
   "source": [
    "df['low'] = df['Low'].apply(lambda x:preprocess(x))"
   ]
  },
  {
   "cell_type": "code",
   "execution_count": 33,
   "id": "9a62468e-e730-49c0-94b8-0fa367e96733",
   "metadata": {},
   "outputs": [],
   "source": [
    "df.drop(['Close/Last','Open','High'],inplace=True,axis=1)"
   ]
  },
  {
   "cell_type": "code",
   "execution_count": 34,
   "id": "47d72c17-f26b-40fe-b160-1bfbde6f85db",
   "metadata": {},
   "outputs": [
    {
     "data": {
      "text/html": [
       "<div>\n",
       "<style scoped>\n",
       "    .dataframe tbody tr th:only-of-type {\n",
       "        vertical-align: middle;\n",
       "    }\n",
       "\n",
       "    .dataframe tbody tr th {\n",
       "        vertical-align: top;\n",
       "    }\n",
       "\n",
       "    .dataframe thead th {\n",
       "        text-align: right;\n",
       "    }\n",
       "</style>\n",
       "<table border=\"1\" class=\"dataframe\">\n",
       "  <thead>\n",
       "    <tr style=\"text-align: right;\">\n",
       "      <th></th>\n",
       "      <th>Date</th>\n",
       "      <th>Volume</th>\n",
       "      <th>Low</th>\n",
       "      <th>close</th>\n",
       "      <th>open</th>\n",
       "      <th>high</th>\n",
       "      <th>low</th>\n",
       "    </tr>\n",
       "  </thead>\n",
       "  <tbody>\n",
       "    <tr>\n",
       "      <th>0</th>\n",
       "      <td>02/28/2020</td>\n",
       "      <td>106721200</td>\n",
       "      <td>$256.37</td>\n",
       "      <td>273.36</td>\n",
       "      <td>257.26</td>\n",
       "      <td>278.41</td>\n",
       "      <td>256.37</td>\n",
       "    </tr>\n",
       "    <tr>\n",
       "      <th>1</th>\n",
       "      <td>02/27/2020</td>\n",
       "      <td>80151380</td>\n",
       "      <td>$272.96</td>\n",
       "      <td>273.52</td>\n",
       "      <td>281.10</td>\n",
       "      <td>286.00</td>\n",
       "      <td>272.96</td>\n",
       "    </tr>\n",
       "    <tr>\n",
       "      <th>2</th>\n",
       "      <td>02/26/2020</td>\n",
       "      <td>49678430</td>\n",
       "      <td>$286.5</td>\n",
       "      <td>292.65</td>\n",
       "      <td>286.53</td>\n",
       "      <td>297.88</td>\n",
       "      <td>286.50</td>\n",
       "    </tr>\n",
       "    <tr>\n",
       "      <th>3</th>\n",
       "      <td>02/25/2020</td>\n",
       "      <td>57668360</td>\n",
       "      <td>$286.13</td>\n",
       "      <td>288.08</td>\n",
       "      <td>300.95</td>\n",
       "      <td>302.53</td>\n",
       "      <td>286.13</td>\n",
       "    </tr>\n",
       "    <tr>\n",
       "      <th>4</th>\n",
       "      <td>02/24/2020</td>\n",
       "      <td>55548830</td>\n",
       "      <td>$289.23</td>\n",
       "      <td>298.18</td>\n",
       "      <td>297.26</td>\n",
       "      <td>304.18</td>\n",
       "      <td>289.23</td>\n",
       "    </tr>\n",
       "  </tbody>\n",
       "</table>\n",
       "</div>"
      ],
      "text/plain": [
       "         Date     Volume       Low   close    open    high     low\n",
       "0  02/28/2020  106721200   $256.37  273.36  257.26  278.41  256.37\n",
       "1  02/27/2020   80151380   $272.96  273.52  281.10  286.00  272.96\n",
       "2  02/26/2020   49678430    $286.5  292.65  286.53  297.88  286.50\n",
       "3  02/25/2020   57668360   $286.13  288.08  300.95  302.53  286.13\n",
       "4  02/24/2020   55548830   $289.23  298.18  297.26  304.18  289.23"
      ]
     },
     "execution_count": 34,
     "metadata": {},
     "output_type": "execute_result"
    }
   ],
   "source": [
    "df.head()\n"
   ]
  },
  {
   "cell_type": "code",
   "execution_count": 35,
   "id": "418cd18e-4615-4621-a29b-48d76edf9ae8",
   "metadata": {},
   "outputs": [],
   "source": [
    "df.drop(['Low'],inplace=True,axis=1)"
   ]
  },
  {
   "cell_type": "code",
   "execution_count": 36,
   "id": "c46efcb6-e989-46e5-bb60-62972408655c",
   "metadata": {},
   "outputs": [
    {
     "data": {
      "text/html": [
       "<div>\n",
       "<style scoped>\n",
       "    .dataframe tbody tr th:only-of-type {\n",
       "        vertical-align: middle;\n",
       "    }\n",
       "\n",
       "    .dataframe tbody tr th {\n",
       "        vertical-align: top;\n",
       "    }\n",
       "\n",
       "    .dataframe thead th {\n",
       "        text-align: right;\n",
       "    }\n",
       "</style>\n",
       "<table border=\"1\" class=\"dataframe\">\n",
       "  <thead>\n",
       "    <tr style=\"text-align: right;\">\n",
       "      <th></th>\n",
       "      <th>Date</th>\n",
       "      <th>Volume</th>\n",
       "      <th>close</th>\n",
       "      <th>open</th>\n",
       "      <th>high</th>\n",
       "      <th>low</th>\n",
       "    </tr>\n",
       "  </thead>\n",
       "  <tbody>\n",
       "    <tr>\n",
       "      <th>0</th>\n",
       "      <td>02/28/2020</td>\n",
       "      <td>106721200</td>\n",
       "      <td>273.36</td>\n",
       "      <td>257.26</td>\n",
       "      <td>278.41</td>\n",
       "      <td>256.37</td>\n",
       "    </tr>\n",
       "    <tr>\n",
       "      <th>1</th>\n",
       "      <td>02/27/2020</td>\n",
       "      <td>80151380</td>\n",
       "      <td>273.52</td>\n",
       "      <td>281.10</td>\n",
       "      <td>286.00</td>\n",
       "      <td>272.96</td>\n",
       "    </tr>\n",
       "    <tr>\n",
       "      <th>2</th>\n",
       "      <td>02/26/2020</td>\n",
       "      <td>49678430</td>\n",
       "      <td>292.65</td>\n",
       "      <td>286.53</td>\n",
       "      <td>297.88</td>\n",
       "      <td>286.50</td>\n",
       "    </tr>\n",
       "    <tr>\n",
       "      <th>3</th>\n",
       "      <td>02/25/2020</td>\n",
       "      <td>57668360</td>\n",
       "      <td>288.08</td>\n",
       "      <td>300.95</td>\n",
       "      <td>302.53</td>\n",
       "      <td>286.13</td>\n",
       "    </tr>\n",
       "    <tr>\n",
       "      <th>4</th>\n",
       "      <td>02/24/2020</td>\n",
       "      <td>55548830</td>\n",
       "      <td>298.18</td>\n",
       "      <td>297.26</td>\n",
       "      <td>304.18</td>\n",
       "      <td>289.23</td>\n",
       "    </tr>\n",
       "  </tbody>\n",
       "</table>\n",
       "</div>"
      ],
      "text/plain": [
       "         Date     Volume   close    open    high     low\n",
       "0  02/28/2020  106721200  273.36  257.26  278.41  256.37\n",
       "1  02/27/2020   80151380  273.52  281.10  286.00  272.96\n",
       "2  02/26/2020   49678430  292.65  286.53  297.88  286.50\n",
       "3  02/25/2020   57668360  288.08  300.95  302.53  286.13\n",
       "4  02/24/2020   55548830  298.18  297.26  304.18  289.23"
      ]
     },
     "execution_count": 36,
     "metadata": {},
     "output_type": "execute_result"
    }
   ],
   "source": [
    "df.head()"
   ]
  },
  {
   "cell_type": "code",
   "execution_count": null,
   "id": "1e5105d2-0013-4761-ab98-669e388778f3",
   "metadata": {},
   "outputs": [],
   "source": []
  },
  {
   "cell_type": "code",
   "execution_count": null,
   "id": "5f81da5b-720d-4752-ad11-0cb65f22f085",
   "metadata": {},
   "outputs": [],
   "source": []
  }
 ],
 "metadata": {
  "kernelspec": {
   "display_name": "Python 3 (ipykernel)",
   "language": "python",
   "name": "python3"
  },
  "language_info": {
   "codemirror_mode": {
    "name": "ipython",
    "version": 3
   },
   "file_extension": ".py",
   "mimetype": "text/x-python",
   "name": "python",
   "nbconvert_exporter": "python",
   "pygments_lexer": "ipython3",
   "version": "3.11.4"
  }
 },
 "nbformat": 4,
 "nbformat_minor": 5
}
